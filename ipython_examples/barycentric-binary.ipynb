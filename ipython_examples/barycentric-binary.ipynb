{
 "cells": [
  {
   "cell_type": "code",
   "execution_count": 1,
   "metadata": {
    "collapsed": true
   },
   "outputs": [],
   "source": [
    "import rebound\n",
    "import numpy as np"
   ]
  },
  {
   "cell_type": "code",
   "execution_count": 2,
   "metadata": {
    "collapsed": true
   },
   "outputs": [],
   "source": [
    "sim=rebound.Simulation()"
   ]
  },
  {
   "cell_type": "markdown",
   "metadata": {},
   "source": [
    "Let $r_1$ and $r_2$ be the respective distances of the two bodies from the barycenter, which we place at the origin.\n",
    "Thus, the specific total energy, $E$, at any given time is given by $$\\epsilon = \\frac{1}{2}(v_1-v_2)^2 - \\frac{G(m_1+m_2)}{r_1+r_2}$$\n",
    "\n",
    "This is constant throughout the orbits, so considering periapsis and apoapsis, we can write $$\\frac{(v_{1p}-v_{2p})^2}{2}-\\frac{G(m_1+m_2)}{r_{1p}+r_{2p}} = \\frac{(v_{1a}-v_{2a})^2}{2}-\\frac{G(m_1+m_2)}{r_{1a}+r_{2a}}$$ $$\\frac{(v_{1p}-v_{2p})^2}{2}-\\frac{(v_{1a}-v_{2a})^2}{2} = \\frac{G(m_1+m_2)}{r_{1p}+r_{2p}}-\\frac{G(m_1+m_2)}{r_{1a}+r_{2a}}$$\n",
    "\n",
    "Note that $\\vec{r_1}$ is antiparallel to $\\vec{r_2}$. Therefore $r_{1p}+r_{2p}$ = $r_p$ and $r_{1a}+r_{2a}$ = $r_a$, where $r_a$ and $r_p$ are the mutual separations at periapsis and apoapsis. We can also say that $r_p$ = $a(1-e)$ and $r_a$ = $a(1+e)$, where $a$ and $e$ are the mutual semimajor axis and eccentricity. We define $a = a_1 + a_2$, where $a_1$ is the semimajor axis of particle 1 about the barycenter. $$ '' = G(m_1+m_2)\\left[\\frac{1}{a(1-e)} - \\frac{1}{a(1+e)}\\right]$$ $$ '' = G(m_1+m_2)\\left[\\frac{2e}{a(1-e^2)}\\right]$$\n",
    "\n",
    "On the left side, we can combine terms by noting that, due to conservation of angular momentum, $$v_{1p}r_{1p}=v_{1a}r_{2a}$$ $$v_{1a}=\\frac{r_{1p}}{r_{1a}}v_{1p}$$ This means that $$(v_{1a}-v_{2a})^2 = \\left(\\frac{r_{1p}}{r_{1a}}v_{1p}-\\frac{r_{2p}}{r_{2a}}v_{2p}\\right)^2$$ Since we are in barycentric coordinates, with the barycenter at (0,0), $$m_1r_1=m_2r_2$$ $$r_{2p}=\\frac{m_1}{m_2}r_{1p}$$ $$r_{2a}=\\frac{m_1}{m_2}r_{1a}$$ $$\\frac{r_{2p}}{r_{2a}}=\\frac{r_{1p}}{r_{1a}}$$ Therefore, $$(v_{1a}-v_{2a})^2 = \\left(\\frac{r_{1p}}{r_{1a}}\\right)^2(v_{1p}-v_{2p})^2$$"
   ]
  },
  {
   "cell_type": "markdown",
   "metadata": {},
   "source": [
    "The original equation is thus rewritten as $$\\frac{1}{2}\\left[(v_{1p}-v_{2p})^2\\left(1-\\left(\\frac{r_{1p}}{r_{1a}}\\right)^2\\right)\\right] = G(m_1+m_2)\\left[\\frac{2e}{a(1-e^2)}\\right]$$"
   ]
  },
  {
   "cell_type": "markdown",
   "metadata": {},
   "source": [
    "We note that $$\\frac{(r_{1a}+r_{1p})(r_{1a}-r_{1p})}{r_{1a}^2}=\\frac{2a_1 \\times 2a_1e}{r_{1a}^2}=\\frac{4a_1^2e}{r_{1a}^2}$$"
   ]
  },
  {
   "cell_type": "markdown",
   "metadata": {},
   "source": [
    "$$\\frac{4a_1^2e}{r_{1a}^2}(v_{1p}-v_{2p})^2 = G(m_1+m_2)\\left[\\frac{4e}{a(1-e^2)}\\right]$$"
   ]
  },
  {
   "cell_type": "markdown",
   "metadata": {},
   "source": [
    "$$\\frac{a_1^2}{r_{1a}^2}(v_{1p}-v_{2p})^2 = G(m_1+m_2)\\left[\\frac{1}{a(1-e^2)}\\right]$$"
   ]
  },
  {
   "cell_type": "markdown",
   "metadata": {},
   "source": [
    "We note further that $$r_{1a} = a_1(1+e)$$ "
   ]
  },
  {
   "cell_type": "markdown",
   "metadata": {},
   "source": [
    "$$\\frac{1}{(1+e)^2}(v_{1p}-v_{2p})^2 = G(m_1+m_2)\\left[\\frac{1}{a(1-e^2)}\\right]$$"
   ]
  },
  {
   "cell_type": "markdown",
   "metadata": {},
   "source": [
    " $$v_{1p}-v_{2p} = \\sqrt{\\frac{G(m_1+m_2)}{a}\\frac{(1+e)}{(1-e)}}$$"
   ]
  },
  {
   "cell_type": "markdown",
   "metadata": {},
   "source": [
    "This is not terribly helpful, as it only gives us the relative velocity $v=v_1-v_2$. We want $v_{1p}$ all on its own."
   ]
  },
  {
   "cell_type": "markdown",
   "metadata": {},
   "source": [
    "If we consider that $m_1r_1=m_2r_2$, then it must also be true that $|\\frac{\\partial}{\\partial{t}}(m_1r_1)|=|\\frac{\\partial}{\\partial{t}}(m_2r_2)|$. Thus,"
   ]
  },
  {
   "cell_type": "markdown",
   "metadata": {},
   "source": [
    " $$v_{2p} = -\\frac{m_1}{m_2}v_{1p}$$"
   ]
  },
  {
   "cell_type": "markdown",
   "metadata": {},
   "source": [
    "$$v_{1p}=\\frac{m_2}{m_1+m_2}\\sqrt{\\frac{G(m_1+m_2)}{a}\\frac{(1+e)}{(1-e)}}$$"
   ]
  },
  {
   "cell_type": "markdown",
   "metadata": {},
   "source": [
    "$$v_{2p}=-\\frac{m_1}{m_1+m_2}\\sqrt{\\frac{G(m_1+m_2)}{a}\\frac{(1+e)}{(1-e)}}$$"
   ]
  },
  {
   "cell_type": "markdown",
   "metadata": {},
   "source": [
    "We'll define initial conditions such that particle 1 (Star A) is on the right side of the origin, and particle 2 (Star B) is on the left side of the origin, and that the system orbits counter-clockwise."
   ]
  },
  {
   "cell_type": "code",
   "execution_count": 3,
   "metadata": {
    "collapsed": false
   },
   "outputs": [
    {
     "name": "stdout",
     "output_type": "stream",
     "text": [
      "0.5 -0.5\n"
     ]
    }
   ],
   "source": [
    "m1 = 1.0\n",
    "m2 = 1.0\n",
    "aa = 2.0\n",
    "ee = 0.0\n",
    "r1p = m2/(m1+m2)*aa*(1-ee)\n",
    "r2p = -m1/(m1+m2)*aa*(1-ee)\n",
    "v1p = m2/(m1+m2)*np.sqrt((m1+m2)/aa*(1+ee)/(1-ee))\n",
    "v2p = -m1/(m1+m2)*np.sqrt((m1+m2)/aa*(1+ee)/(1-ee))\n",
    "print v1p,v2p"
   ]
  },
  {
   "cell_type": "code",
   "execution_count": 4,
   "metadata": {
    "collapsed": true
   },
   "outputs": [],
   "source": [
    "sim.add(m=m1,x=r1p,vx=0,vy=v1p)\n",
    "sim.add(m=m2,x=r2p,vx=0,vy=v2p)"
   ]
  },
  {
   "cell_type": "code",
   "execution_count": 5,
   "metadata": {
    "collapsed": true
   },
   "outputs": [],
   "source": [
    "sim.move_to_com()"
   ]
  },
  {
   "cell_type": "code",
   "execution_count": 6,
   "metadata": {
    "collapsed": false
   },
   "outputs": [
    {
     "data": {
      "image/png": "[encoded data removed]",
      "text/plain": [
       "<matplotlib.figure.Figure at 0x7fd2fe5df110>"
      ]
     },
     "metadata": {},
     "output_type": "display_data"
    }
   ],
   "source": [
    "%matplotlib inline\n",
    "fig=rebound.OrbitPlot(sim,color=True)"
   ]
  },
  {
   "cell_type": "code",
   "execution_count": 7,
   "metadata": {
    "collapsed": false
   },
   "outputs": [
    {
     "data": {
      "image/png": "[encoded data removed]",
      "text/plain": [
       "<matplotlib.figure.Figure at 0x7fd3159f1890>"
      ]
     },
     "metadata": {},
     "output_type": "display_data"
    }
   ],
   "source": [
    "sim.integrate(4.0)\n",
    "fig=rebound.OrbitPlot(sim,color=True)"
   ]
  },
  {
   "cell_type": "code",
   "execution_count": 8,
   "metadata": {
    "collapsed": true
   },
   "outputs": [],
   "source": [
    "years = 5.0\n",
    "tmax = years*2*np.pi\n",
    "times= np.linspace(0,tmax,num=200)\n",
    "sa = np.zeros([2,len(times)])\n",
    "sb = np.zeros([2,len(times)])\n",
    "i=0\n",
    "while i<len(times):\n",
    "    sim.integrate(times[i])\n",
    "    sim.move_to_com()\n",
    "    sa[0][i]=sim.particles[0].x\n",
    "    sa[1][i]=sim.particles[0].y\n",
    "    sb[0][i]=sim.particles[1].x\n",
    "    sb[1][i]=sim.particles[1].y\n",
    "    i+=1"
   ]
  },
  {
   "cell_type": "code",
   "execution_count": 9,
   "metadata": {
    "collapsed": false
   },
   "outputs": [
    {
     "data": {
      "image/png": "[encoded data removed]",
      "text/plain": [
       "<matplotlib.figure.Figure at 0x7fd2fb0c0fd0>"
      ]
     },
     "metadata": {},
     "output_type": "display_data"
    }
   ],
   "source": [
    "from pylab import *\n",
    "sao = plot(sa[0],sa[1],label='Star A')\n",
    "sbo = plot(sb[0],sb[1],label='Star B')\n",
    "ylabel('AU')\n",
    "xlabel('AU')\n",
    "title('Binary System')\n",
    "l=legend(bbox_to_anchor=(1.05, 1), loc=2, borderaxespad=0.)"
   ]
  },
  {
   "cell_type": "code",
   "execution_count": null,
   "metadata": {
    "collapsed": true
   },
   "outputs": [],
   "source": []
  }
 ],
 "metadata": {
  "kernelspec": {
   "display_name": "Python 2",
   "language": "python",
   "name": "python2"
  },
  "language_info": {
   "codemirror_mode": {
    "name": "ipython",
    "version": 2
   },
   "file_extension": ".py",
   "mimetype": "text/x-python",
   "name": "python",
   "nbconvert_exporter": "python",
   "pygments_lexer": "ipython2",
   "version": "2.7.6"
  }
 },
 "nbformat": 4,
 "nbformat_minor": 0
}
